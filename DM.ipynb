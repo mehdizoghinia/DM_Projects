{
  "cells": [
    {
      "cell_type": "code",
      "execution_count": null,
      "metadata": {
        "id": "-EC-YPOM8MVz"
      },
      "outputs": [],
      "source": [
        "import numpy as np\n",
        "import pandas as pd\n",
        "import matplotlib.pyplot as plt"
      ]
    },
    {
      "cell_type": "code",
      "execution_count": null,
      "metadata": {
        "id": "xil23aD18MV3",
        "outputId": "233e1653-fcc6-4180-d28f-2288f40a410f"
      },
      "outputs": [
        {
          "data": {
            "text/html": [
              "<div>\n",
              "<style scoped>\n",
              "    .dataframe tbody tr th:only-of-type {\n",
              "        vertical-align: middle;\n",
              "    }\n",
              "\n",
              "    .dataframe tbody tr th {\n",
              "        vertical-align: top;\n",
              "    }\n",
              "\n",
              "    .dataframe thead th {\n",
              "        text-align: right;\n",
              "    }\n",
              "</style>\n",
              "<table border=\"1\" class=\"dataframe\">\n",
              "  <thead>\n",
              "    <tr style=\"text-align: right;\">\n",
              "      <th></th>\n",
              "      <th>0</th>\n",
              "      <th>1</th>\n",
              "      <th>2</th>\n",
              "      <th>3</th>\n",
              "      <th>4</th>\n",
              "      <th>5</th>\n",
              "      <th>6</th>\n",
              "    </tr>\n",
              "  </thead>\n",
              "  <tbody>\n",
              "    <tr>\n",
              "      <th>14995</th>\n",
              "      <td>[id, FFEA064F-0D58-4CB8-A42F-F54E90EC0816-1000]</td>\n",
              "      <td>[dates, [2017-04-17, 2017-04-20, 2017-04-27, 2...</td>\n",
              "      <td>[transaction_amount, [[-150.0], [6.52], [6.52]...</td>\n",
              "      <td>[days_before_request, [[62.0], [62.0], [62.0],...</td>\n",
              "      <td>[loan_amount, 1000]</td>\n",
              "      <td>[loan_date, 2017-07-12]</td>\n",
              "      <td>[]</td>\n",
              "    </tr>\n",
              "    <tr>\n",
              "      <th>14996</th>\n",
              "      <td>[id, FFEADE25-11CF-488D-B722-EDF6649A3F52-750]</td>\n",
              "      <td>[dates, [2017-03-07, 2017-03-08, 2017-03-08, 2...</td>\n",
              "      <td>[transaction_amount, [[350.0], [-23.21], [-48....</td>\n",
              "      <td>[days_before_request, [[18.0], [18.0], [18.0],...</td>\n",
              "      <td>[loan_amount, 750]</td>\n",
              "      <td>[loan_date, 2017-06-02]</td>\n",
              "      <td>[]</td>\n",
              "    </tr>\n",
              "    <tr>\n",
              "      <th>14997</th>\n",
              "      <td>[id, FFEC371F-8F61-469D-8B9B-360504AB803A-750]</td>\n",
              "      <td>[dates, [2017-08-21, 2017-08-23, 2017-08-23, 2...</td>\n",
              "      <td>[transaction_amount, [[-108.09], [-10.0], [-12...</td>\n",
              "      <td>[days_before_request, [[75.0], [74.0], [74.0],...</td>\n",
              "      <td>[loan_amount, 750]</td>\n",
              "      <td>[loan_date, 2017-11-16]</td>\n",
              "      <td>[]</td>\n",
              "    </tr>\n",
              "    <tr>\n",
              "      <th>14998</th>\n",
              "      <td>[id, FFF1961C-9082-4EC1-AEAF-0DACD21EF80A-500]</td>\n",
              "      <td>[dates, [2017-05-16, 2017-05-17, 2017-05-18, 2...</td>\n",
              "      <td>[transaction_amount, [[-10.0], [6.03], [-4.2],...</td>\n",
              "      <td>[days_before_request, [[66.0], [66.0], [66.0],...</td>\n",
              "      <td>[loan_amount, 500]</td>\n",
              "      <td>[loan_date, 2017-08-13]</td>\n",
              "      <td>[]</td>\n",
              "    </tr>\n",
              "    <tr>\n",
              "      <th>14999</th>\n",
              "      <td>[id, FFF4FB79-70EA-4E28-9A7A-572BE7E75D42-500]</td>\n",
              "      <td>[dates, [2017-02-09, 2017-02-09, 2017-02-09, 2...</td>\n",
              "      <td>[transaction_amount, [[-8.58], [-40.0], [40.0]...</td>\n",
              "      <td>[days_before_request, [[20.0], [19.0], [19.0],...</td>\n",
              "      <td>[loan_amount, 500]</td>\n",
              "      <td>[loan_date, 2017-05-09]</td>\n",
              "      <td>[]</td>\n",
              "    </tr>\n",
              "  </tbody>\n",
              "</table>\n",
              "</div>"
            ],
            "text/plain": [
              "                                                     0  \\\n",
              "14995  [id, FFEA064F-0D58-4CB8-A42F-F54E90EC0816-1000]   \n",
              "14996   [id, FFEADE25-11CF-488D-B722-EDF6649A3F52-750]   \n",
              "14997   [id, FFEC371F-8F61-469D-8B9B-360504AB803A-750]   \n",
              "14998   [id, FFF1961C-9082-4EC1-AEAF-0DACD21EF80A-500]   \n",
              "14999   [id, FFF4FB79-70EA-4E28-9A7A-572BE7E75D42-500]   \n",
              "\n",
              "                                                       1  \\\n",
              "14995  [dates, [2017-04-17, 2017-04-20, 2017-04-27, 2...   \n",
              "14996  [dates, [2017-03-07, 2017-03-08, 2017-03-08, 2...   \n",
              "14997  [dates, [2017-08-21, 2017-08-23, 2017-08-23, 2...   \n",
              "14998  [dates, [2017-05-16, 2017-05-17, 2017-05-18, 2...   \n",
              "14999  [dates, [2017-02-09, 2017-02-09, 2017-02-09, 2...   \n",
              "\n",
              "                                                       2  \\\n",
              "14995  [transaction_amount, [[-150.0], [6.52], [6.52]...   \n",
              "14996  [transaction_amount, [[350.0], [-23.21], [-48....   \n",
              "14997  [transaction_amount, [[-108.09], [-10.0], [-12...   \n",
              "14998  [transaction_amount, [[-10.0], [6.03], [-4.2],...   \n",
              "14999  [transaction_amount, [[-8.58], [-40.0], [40.0]...   \n",
              "\n",
              "                                                       3                    4  \\\n",
              "14995  [days_before_request, [[62.0], [62.0], [62.0],...  [loan_amount, 1000]   \n",
              "14996  [days_before_request, [[18.0], [18.0], [18.0],...   [loan_amount, 750]   \n",
              "14997  [days_before_request, [[75.0], [74.0], [74.0],...   [loan_amount, 750]   \n",
              "14998  [days_before_request, [[66.0], [66.0], [66.0],...   [loan_amount, 500]   \n",
              "14999  [days_before_request, [[20.0], [19.0], [19.0],...   [loan_amount, 500]   \n",
              "\n",
              "                             5   6  \n",
              "14995  [loan_date, 2017-07-12]  []  \n",
              "14996  [loan_date, 2017-06-02]  []  \n",
              "14997  [loan_date, 2017-11-16]  []  \n",
              "14998  [loan_date, 2017-08-13]  []  \n",
              "14999  [loan_date, 2017-05-09]  []  "
            ]
          },
          "execution_count": 76,
          "metadata": {},
          "output_type": "execute_result"
        }
      ],
      "source": [
        "data = pd.read_pickle('./dataset_new.pkl')\n",
        "data.tail()"
      ]
    },
    {
      "cell_type": "code",
      "execution_count": null,
      "metadata": {
        "id": "Vpv27KEo8MV4",
        "outputId": "126626cf-46a0-49f1-ed89-25b7ff0e01d4"
      },
      "outputs": [
        {
          "name": "stdout",
          "output_type": "stream",
          "text": [
            "0    0\n",
            "1    0\n",
            "2    0\n",
            "3    0\n",
            "4    0\n",
            "5    0\n",
            "6    0\n",
            "dtype: int64\n",
            "\n",
            "== > There is no null value in the dataset.\n"
          ]
        }
      ],
      "source": [
        "print(data.isnull().sum())\n",
        "print(\"\\n== > There is no null value in the dataset.\")"
      ]
    },
    {
      "cell_type": "code",
      "execution_count": null,
      "metadata": {
        "id": "4PDAEg498MV5"
      },
      "outputs": [],
      "source": [
        "cus_id = []\n",
        "for i in range(10000,15000):\n",
        "    cus_id.append(data[0][i][1])\n",
        "cus_id = np.asarray([cus_id]).transpose()"
      ]
    },
    {
      "cell_type": "code",
      "execution_count": null,
      "metadata": {
        "id": "VgtCVDZ_8MV5"
      },
      "outputs": [],
      "source": [
        "len_neg = []\n",
        "mean_neg = []\n",
        "for i in range (0 , 15000):\n",
        "    len_neg.append(len(data[2][i][1][np.where(data[2][i][1] <= 0 )]))\n",
        "    mean_neg.append(np.mean(data[2][i][1][np.where(data[2][i][1] < 0 )]))\n",
        "len_neg = np.asarray([len_neg]).transpose()\n",
        "mean_neg = np.asarray([mean_neg]).transpose()"
      ]
    },
    {
      "cell_type": "code",
      "execution_count": null,
      "metadata": {
        "id": "GIFTj8-j8MV6"
      },
      "outputs": [],
      "source": [
        "len_pos = []\n",
        "mean_pos = []\n",
        "for i in range (0 , 15000):\n",
        "    len_pos.append(len(data[2][i][1][np.where(data[2][i][1] >= 0 )]))\n",
        "    #mean_pos.append(np.mean(data[2][i][1][np.where(data[2][i][1] > 0 )]))\n",
        "len_pos = np.asarray([len_pos]).transpose()\n",
        "#mean_pos = np.asarray([mean_pos]).transpose()"
      ]
    },
    {
      "cell_type": "code",
      "execution_count": null,
      "metadata": {
        "id": "otYpBcoG8MV6"
      },
      "outputs": [],
      "source": [
        "cus_max = []\n",
        "for i in range(0,15000):\n",
        "    cus_max.append(np.round(np.max(data[2][i][1])))\n",
        "cus_max = np.asarray([cus_max]).transpose()"
      ]
    },
    {
      "cell_type": "code",
      "execution_count": null,
      "metadata": {
        "id": "PQOKueKj8MV7"
      },
      "outputs": [],
      "source": [
        "cus_min = []\n",
        "for i in range(0,15000):\n",
        "    cus_min.append(np.round(np.min(data[2][i][1])))\n",
        "cus_min = np.asarray([cus_min]).transpose()"
      ]
    },
    {
      "cell_type": "code",
      "execution_count": null,
      "metadata": {
        "id": "TJVFrKwF8MV7"
      },
      "outputs": [],
      "source": [
        "cus_mean = []\n",
        "for i in range(0,15000):\n",
        "    cus_mean.append(np.mean(data[2][i][1]))\n",
        "cus_mean = np.asarray([cus_mean]).transpose()"
      ]
    },
    {
      "cell_type": "code",
      "execution_count": null,
      "metadata": {
        "id": "chyy-a_o8MV8"
      },
      "outputs": [],
      "source": [
        "cus_std = []\n",
        "for i in range(0,15000):\n",
        "    cus_std.append(np.std(data[2][i][1]))\n",
        "cus_std = np.asarray([cus_std]).transpose()"
      ]
    },
    {
      "cell_type": "code",
      "execution_count": null,
      "metadata": {
        "id": "4kKp53S28MV8"
      },
      "outputs": [],
      "source": [
        "cus_loan = []\n",
        "for i in range(0,15000):\n",
        "    cus_loan.append(data[4][i][1])\n",
        "cus_loan = np.asarray([cus_loan]).transpose()"
      ]
    },
    {
      "cell_type": "code",
      "execution_count": null,
      "metadata": {
        "id": "m_oHteic8MV9"
      },
      "outputs": [],
      "source": [
        "trans_len = []\n",
        "for i in range(0,15000):\n",
        "    trans_len.append(len(data[2][i][1]))\n",
        "trans_len = np.asarray([trans_len]).transpose()"
      ]
    },
    {
      "cell_type": "code",
      "execution_count": null,
      "metadata": {
        "id": "PUI3COkg8MV9"
      },
      "outputs": [],
      "source": [
        "cus_def = []\n",
        "for i in range(0,10000):\n",
        "    cus_def.append(data[6][i][1])\n",
        "cus_def = np.asarray([cus_def]).transpose()"
      ]
    },
    {
      "cell_type": "code",
      "execution_count": null,
      "metadata": {
        "id": "Iqy1nYa68MV9",
        "outputId": "ebc52e81-bdc9-4ce7-ca60-71b8b6557511"
      },
      "outputs": [
        {
          "name": "stdout",
          "output_type": "stream",
          "text": [
            "(15000, 9)\n",
            "(10000, 1)\n"
          ]
        }
      ],
      "source": [
        "#data_arr = np.hstack([len_neg, mean_neg, len_pos, mean_pos, cus_max, cus_min, cus_mean, cus_std, cus_loan, trans_len])\n",
        "data_arr = np.hstack([len_neg, mean_neg, len_pos, cus_max, cus_min, cus_mean, cus_std, cus_loan, trans_len])\n",
        "print(data_arr.shape)\n",
        "def_arr = np.hstack([cus_def])\n",
        "print(def_arr.shape)"
      ]
    },
    {
      "cell_type": "code",
      "execution_count": null,
      "metadata": {
        "id": "4gjwPoVy8MV-",
        "outputId": "bbaf5865-1a8f-4f49-d6c6-da72e3661b8e"
      },
      "outputs": [
        {
          "data": {
            "text/html": [
              "<div>\n",
              "<style scoped>\n",
              "    .dataframe tbody tr th:only-of-type {\n",
              "        vertical-align: middle;\n",
              "    }\n",
              "\n",
              "    .dataframe tbody tr th {\n",
              "        vertical-align: top;\n",
              "    }\n",
              "\n",
              "    .dataframe thead th {\n",
              "        text-align: right;\n",
              "    }\n",
              "</style>\n",
              "<table border=\"1\" class=\"dataframe\">\n",
              "  <thead>\n",
              "    <tr style=\"text-align: right;\">\n",
              "      <th></th>\n",
              "      <th>len_neg</th>\n",
              "      <th>mean_neg</th>\n",
              "      <th>len_pos</th>\n",
              "      <th>max</th>\n",
              "      <th>min</th>\n",
              "      <th>mean</th>\n",
              "      <th>std</th>\n",
              "      <th>loan</th>\n",
              "      <th>trans_len</th>\n",
              "    </tr>\n",
              "  </thead>\n",
              "  <tbody>\n",
              "    <tr>\n",
              "      <th>0</th>\n",
              "      <td>171.0</td>\n",
              "      <td>-78.789942</td>\n",
              "      <td>29.0</td>\n",
              "      <td>3083.0</td>\n",
              "      <td>-562.0</td>\n",
              "      <td>-3.557400</td>\n",
              "      <td>340.472322</td>\n",
              "      <td>750.0</td>\n",
              "      <td>200.0</td>\n",
              "    </tr>\n",
              "    <tr>\n",
              "      <th>1</th>\n",
              "      <td>282.0</td>\n",
              "      <td>-59.946844</td>\n",
              "      <td>100.0</td>\n",
              "      <td>1507.0</td>\n",
              "      <td>-1507.0</td>\n",
              "      <td>2.387382</td>\n",
              "      <td>263.269515</td>\n",
              "      <td>500.0</td>\n",
              "      <td>382.0</td>\n",
              "    </tr>\n",
              "    <tr>\n",
              "      <th>2</th>\n",
              "      <td>222.0</td>\n",
              "      <td>-56.448514</td>\n",
              "      <td>14.0</td>\n",
              "      <td>1639.0</td>\n",
              "      <td>-811.0</td>\n",
              "      <td>1.553517</td>\n",
              "      <td>292.152049</td>\n",
              "      <td>1000.0</td>\n",
              "      <td>236.0</td>\n",
              "    </tr>\n",
              "    <tr>\n",
              "      <th>3</th>\n",
              "      <td>200.0</td>\n",
              "      <td>-46.844850</td>\n",
              "      <td>49.0</td>\n",
              "      <td>1000.0</td>\n",
              "      <td>-900.0</td>\n",
              "      <td>1.335502</td>\n",
              "      <td>193.172187</td>\n",
              "      <td>250.0</td>\n",
              "      <td>249.0</td>\n",
              "    </tr>\n",
              "    <tr>\n",
              "      <th>4</th>\n",
              "      <td>227.0</td>\n",
              "      <td>-22.771498</td>\n",
              "      <td>13.0</td>\n",
              "      <td>806.0</td>\n",
              "      <td>-320.0</td>\n",
              "      <td>-1.189833</td>\n",
              "      <td>119.056949</td>\n",
              "      <td>500.0</td>\n",
              "      <td>240.0</td>\n",
              "    </tr>\n",
              "  </tbody>\n",
              "</table>\n",
              "</div>"
            ],
            "text/plain": [
              "   len_neg   mean_neg  len_pos     max     min      mean         std    loan  \\\n",
              "0    171.0 -78.789942     29.0  3083.0  -562.0 -3.557400  340.472322   750.0   \n",
              "1    282.0 -59.946844    100.0  1507.0 -1507.0  2.387382  263.269515   500.0   \n",
              "2    222.0 -56.448514     14.0  1639.0  -811.0  1.553517  292.152049  1000.0   \n",
              "3    200.0 -46.844850     49.0  1000.0  -900.0  1.335502  193.172187   250.0   \n",
              "4    227.0 -22.771498     13.0   806.0  -320.0 -1.189833  119.056949   500.0   \n",
              "\n",
              "   trans_len  \n",
              "0      200.0  \n",
              "1      382.0  \n",
              "2      236.0  \n",
              "3      249.0  \n",
              "4      240.0  "
            ]
          },
          "execution_count": 89,
          "metadata": {},
          "output_type": "execute_result"
        }
      ],
      "source": [
        "# combine all features into one dataframe\n",
        "#columns = [\"len_neg\", \"mean_neg\", \"len_pos\", \"mean_pos\", \"max\", \"min\", \"mean\", \"std\", \"loan\", \"trans_len\"]\n",
        "columns = [\"len_neg\", \"mean_neg\", \"len_pos\", \"max\", \"min\", \"mean\", \"std\", \"loan\", \"trans_len\"]\n",
        "df = pd.DataFrame(data = data_arr, columns = columns)\n",
        "df_label = pd.DataFrame(data = def_arr, columns = [\"isDef\"])\n",
        "df.head()"
      ]
    },
    {
      "cell_type": "code",
      "execution_count": null,
      "metadata": {
        "id": "H3RaxdA88MV-",
        "outputId": "6dc701a3-3042-4920-9d7c-dd0f4bf4f8c7"
      },
      "outputs": [
        {
          "data": {
            "text/html": [
              "<div>\n",
              "<style scoped>\n",
              "    .dataframe tbody tr th:only-of-type {\n",
              "        vertical-align: middle;\n",
              "    }\n",
              "\n",
              "    .dataframe tbody tr th {\n",
              "        vertical-align: top;\n",
              "    }\n",
              "\n",
              "    .dataframe thead th {\n",
              "        text-align: right;\n",
              "    }\n",
              "</style>\n",
              "<table border=\"1\" class=\"dataframe\">\n",
              "  <thead>\n",
              "    <tr style=\"text-align: right;\">\n",
              "      <th></th>\n",
              "      <th>len_neg</th>\n",
              "      <th>mean_neg</th>\n",
              "      <th>len_pos</th>\n",
              "      <th>max</th>\n",
              "      <th>min</th>\n",
              "      <th>mean</th>\n",
              "      <th>std</th>\n",
              "      <th>loan</th>\n",
              "      <th>trans_len</th>\n",
              "    </tr>\n",
              "  </thead>\n",
              "  <tbody>\n",
              "    <tr>\n",
              "      <th>10000</th>\n",
              "      <td>131.0</td>\n",
              "      <td>-146.049771</td>\n",
              "      <td>21.0</td>\n",
              "      <td>3809.0</td>\n",
              "      <td>-1000.0</td>\n",
              "      <td>1.114934</td>\n",
              "      <td>619.190774</td>\n",
              "      <td>500.0</td>\n",
              "      <td>152.0</td>\n",
              "    </tr>\n",
              "    <tr>\n",
              "      <th>10001</th>\n",
              "      <td>193.0</td>\n",
              "      <td>-70.593005</td>\n",
              "      <td>16.0</td>\n",
              "      <td>1729.0</td>\n",
              "      <td>-880.0</td>\n",
              "      <td>-1.277656</td>\n",
              "      <td>301.202184</td>\n",
              "      <td>500.0</td>\n",
              "      <td>209.0</td>\n",
              "    </tr>\n",
              "    <tr>\n",
              "      <th>10002</th>\n",
              "      <td>366.0</td>\n",
              "      <td>-26.112869</td>\n",
              "      <td>33.0</td>\n",
              "      <td>1015.0</td>\n",
              "      <td>-900.0</td>\n",
              "      <td>-1.301378</td>\n",
              "      <td>156.077809</td>\n",
              "      <td>750.0</td>\n",
              "      <td>399.0</td>\n",
              "    </tr>\n",
              "    <tr>\n",
              "      <th>10003</th>\n",
              "      <td>222.0</td>\n",
              "      <td>-79.889640</td>\n",
              "      <td>16.0</td>\n",
              "      <td>1856.0</td>\n",
              "      <td>-700.0</td>\n",
              "      <td>-7.238571</td>\n",
              "      <td>345.536979</td>\n",
              "      <td>600.0</td>\n",
              "      <td>238.0</td>\n",
              "    </tr>\n",
              "    <tr>\n",
              "      <th>10004</th>\n",
              "      <td>294.0</td>\n",
              "      <td>-31.672959</td>\n",
              "      <td>19.0</td>\n",
              "      <td>1488.0</td>\n",
              "      <td>-500.0</td>\n",
              "      <td>3.762652</td>\n",
              "      <td>218.452822</td>\n",
              "      <td>700.0</td>\n",
              "      <td>313.0</td>\n",
              "    </tr>\n",
              "  </tbody>\n",
              "</table>\n",
              "</div>"
            ],
            "text/plain": [
              "       len_neg    mean_neg  len_pos     max     min      mean         std  \\\n",
              "10000    131.0 -146.049771     21.0  3809.0 -1000.0  1.114934  619.190774   \n",
              "10001    193.0  -70.593005     16.0  1729.0  -880.0 -1.277656  301.202184   \n",
              "10002    366.0  -26.112869     33.0  1015.0  -900.0 -1.301378  156.077809   \n",
              "10003    222.0  -79.889640     16.0  1856.0  -700.0 -7.238571  345.536979   \n",
              "10004    294.0  -31.672959     19.0  1488.0  -500.0  3.762652  218.452822   \n",
              "\n",
              "        loan  trans_len  \n",
              "10000  500.0      152.0  \n",
              "10001  500.0      209.0  \n",
              "10002  750.0      399.0  \n",
              "10003  600.0      238.0  \n",
              "10004  700.0      313.0  "
            ]
          },
          "execution_count": 90,
          "metadata": {},
          "output_type": "execute_result"
        }
      ],
      "source": [
        "X_test_real = df[10000:15000]\n",
        "X_test_real.head()"
      ]
    },
    {
      "cell_type": "code",
      "execution_count": null,
      "metadata": {
        "id": "7kJ9U6AR8MV-",
        "outputId": "d20190c0-c449-44af-ae91-54e751176fe4"
      },
      "outputs": [
        {
          "data": {
            "text/html": [
              "<div>\n",
              "<style scoped>\n",
              "    .dataframe tbody tr th:only-of-type {\n",
              "        vertical-align: middle;\n",
              "    }\n",
              "\n",
              "    .dataframe tbody tr th {\n",
              "        vertical-align: top;\n",
              "    }\n",
              "\n",
              "    .dataframe thead th {\n",
              "        text-align: right;\n",
              "    }\n",
              "</style>\n",
              "<table border=\"1\" class=\"dataframe\">\n",
              "  <thead>\n",
              "    <tr style=\"text-align: right;\">\n",
              "      <th></th>\n",
              "      <th>len_neg</th>\n",
              "      <th>mean_neg</th>\n",
              "      <th>len_pos</th>\n",
              "      <th>max</th>\n",
              "      <th>min</th>\n",
              "      <th>mean</th>\n",
              "      <th>std</th>\n",
              "      <th>loan</th>\n",
              "      <th>trans_len</th>\n",
              "      <th>isDef</th>\n",
              "    </tr>\n",
              "  </thead>\n",
              "  <tbody>\n",
              "    <tr>\n",
              "      <th>0</th>\n",
              "      <td>171.0</td>\n",
              "      <td>-78.789942</td>\n",
              "      <td>29.0</td>\n",
              "      <td>3083.0</td>\n",
              "      <td>-562.0</td>\n",
              "      <td>-3.557400</td>\n",
              "      <td>340.472322</td>\n",
              "      <td>750.0</td>\n",
              "      <td>200.0</td>\n",
              "      <td>1</td>\n",
              "    </tr>\n",
              "    <tr>\n",
              "      <th>1</th>\n",
              "      <td>282.0</td>\n",
              "      <td>-59.946844</td>\n",
              "      <td>100.0</td>\n",
              "      <td>1507.0</td>\n",
              "      <td>-1507.0</td>\n",
              "      <td>2.387382</td>\n",
              "      <td>263.269515</td>\n",
              "      <td>500.0</td>\n",
              "      <td>382.0</td>\n",
              "      <td>1</td>\n",
              "    </tr>\n",
              "    <tr>\n",
              "      <th>2</th>\n",
              "      <td>222.0</td>\n",
              "      <td>-56.448514</td>\n",
              "      <td>14.0</td>\n",
              "      <td>1639.0</td>\n",
              "      <td>-811.0</td>\n",
              "      <td>1.553517</td>\n",
              "      <td>292.152049</td>\n",
              "      <td>1000.0</td>\n",
              "      <td>236.0</td>\n",
              "      <td>0</td>\n",
              "    </tr>\n",
              "    <tr>\n",
              "      <th>3</th>\n",
              "      <td>200.0</td>\n",
              "      <td>-46.844850</td>\n",
              "      <td>49.0</td>\n",
              "      <td>1000.0</td>\n",
              "      <td>-900.0</td>\n",
              "      <td>1.335502</td>\n",
              "      <td>193.172187</td>\n",
              "      <td>250.0</td>\n",
              "      <td>249.0</td>\n",
              "      <td>0</td>\n",
              "    </tr>\n",
              "    <tr>\n",
              "      <th>4</th>\n",
              "      <td>227.0</td>\n",
              "      <td>-22.771498</td>\n",
              "      <td>13.0</td>\n",
              "      <td>806.0</td>\n",
              "      <td>-320.0</td>\n",
              "      <td>-1.189833</td>\n",
              "      <td>119.056949</td>\n",
              "      <td>500.0</td>\n",
              "      <td>240.0</td>\n",
              "      <td>0</td>\n",
              "    </tr>\n",
              "  </tbody>\n",
              "</table>\n",
              "</div>"
            ],
            "text/plain": [
              "   len_neg   mean_neg  len_pos     max     min      mean         std    loan  \\\n",
              "0    171.0 -78.789942     29.0  3083.0  -562.0 -3.557400  340.472322   750.0   \n",
              "1    282.0 -59.946844    100.0  1507.0 -1507.0  2.387382  263.269515   500.0   \n",
              "2    222.0 -56.448514     14.0  1639.0  -811.0  1.553517  292.152049  1000.0   \n",
              "3    200.0 -46.844850     49.0  1000.0  -900.0  1.335502  193.172187   250.0   \n",
              "4    227.0 -22.771498     13.0   806.0  -320.0 -1.189833  119.056949   500.0   \n",
              "\n",
              "   trans_len  isDef  \n",
              "0      200.0      1  \n",
              "1      382.0      1  \n",
              "2      236.0      0  \n",
              "3      249.0      0  \n",
              "4      240.0      0  "
            ]
          },
          "execution_count": 91,
          "metadata": {},
          "output_type": "execute_result"
        }
      ],
      "source": [
        "df = df[0:10000]\n",
        "df['isDef'] = df_label\n",
        "df.head()"
      ]
    },
    {
      "cell_type": "code",
      "execution_count": null,
      "metadata": {
        "id": "CnlgwudO8MV-"
      },
      "outputs": [],
      "source": [
        ""
      ]
    },
    {
      "cell_type": "code",
      "execution_count": null,
      "metadata": {
        "id": "MP5__zQE8MV_"
      },
      "outputs": [],
      "source": [
        "#x = df[[\"len_neg\", \"mean_neg\", \"len_pos\", \"mean_pos\", \"max\", \"min\", \"mean\", \"std\", \"loan\", \"trans_len\"]]\n",
        "x = df[[\"len_neg\", \"mean_neg\", \"len_pos\", \"max\", \"min\", \"mean\", \"std\", \"loan\", \"trans_len\"]]\n",
        "y = df [\"isDef\"]"
      ]
    },
    {
      "cell_type": "code",
      "execution_count": null,
      "metadata": {
        "id": "lvUNwF-m8MV_"
      },
      "outputs": [],
      "source": [
        "from sklearn.model_selection import train_test_split\n",
        "X_train, X_test, y_train, y_test = train_test_split(x, y, test_size = 0.2, random_state = 5)"
      ]
    },
    {
      "cell_type": "code",
      "execution_count": null,
      "metadata": {
        "id": "fSQfr_7P8MV_",
        "outputId": "9df62e22-a743-4466-c970-0931cfc5a2ab"
      },
      "outputs": [
        {
          "name": "stderr",
          "output_type": "stream",
          "text": [
            "//anaconda3/lib/python3.7/site-packages/sklearn/svm/base.py:193: FutureWarning: The default value of gamma will change from 'auto' to 'scale' in version 0.22 to account better for unscaled features. Set gamma explicitly to 'auto' or 'scale' to avoid this warning.\n",
            "  \"avoid this warning.\", FutureWarning)\n"
          ]
        },
        {
          "name": "stdout",
          "output_type": "stream",
          "text": [
            "Accuracy of SVM is equal 73.3 %.\n",
            "auc of SVM =  0.5079275982892509\n"
          ]
        }
      ],
      "source": [
        "from sklearn.svm import SVC\n",
        "from sklearn.metrics import roc_curve, auc\n",
        "from sklearn.metrics import accuracy_score\n",
        "\n",
        "\n",
        "clf = SVC(probability = True)\n",
        "clf.fit(X_train , y_train)\n",
        "ypred = clf.predict(X_test)\n",
        "probs = clf.predict_proba(X_test)\n",
        "fpr , tpr , thresh = roc_curve(y_test, probs[:,1])\n",
        "\n",
        "# Predicting the Test set results\n",
        "y_pred = clf.predict(X_test)\n",
        "accuracy = accuracy_score(y_test, y_pred)*100\n",
        "print('Accuracy of SVM is equal ' + str(round(accuracy, 2)) + ' %.')\n",
        "print(\"auc of SVM = \" ,auc(fpr,tpr))"
      ]
    },
    {
      "cell_type": "code",
      "execution_count": null,
      "metadata": {
        "id": "SNjv3Fzx8MV_",
        "outputId": "eb88c5ce-bef0-449c-e34d-45b0d00ee82f"
      },
      "outputs": [
        {
          "name": "stdout",
          "output_type": "stream",
          "text": [
            "Accuracy of GradientBoostingClassifier : 0.7385\n",
            "auc of GB =  0.7138563560636496\n"
          ]
        }
      ],
      "source": [
        "# make probability predictions with the model\n",
        "from sklearn.ensemble import GradientBoostingClassifier\n",
        "from sklearn.metrics import roc_curve, auc\n",
        "#Create a GradientBoostingClassifier Classifier\n",
        "clf = GradientBoostingClassifier(n_estimators = 50)\n",
        "\n",
        "#Train the model using the training sets y_pred=clf.predict(X_test)\n",
        "clf.fit(X_train, y_train)\n",
        "\n",
        "y_pred = clf.predict(X_test)\n",
        "\n",
        "from sklearn import metrics\n",
        "# Model Accuracy, how often is the classifier correct?\n",
        "print(\"Accuracy of GradientBoostingClassifier :\", metrics.accuracy_score(y_test, y_pred))\n",
        "\n",
        "probs = clf.predict_proba(X_test)\n",
        "fpr , tpr , thresh = roc_curve(y_test, probs[:,1])\n",
        "print(\"auc of GB = \" ,auc(fpr,tpr))"
      ]
    },
    {
      "cell_type": "code",
      "execution_count": null,
      "metadata": {
        "id": "Az-KC_na8MWA",
        "outputId": "a89fe69e-5422-469e-d367-e5587f382f3d"
      },
      "outputs": [
        {
          "name": "stdout",
          "output_type": "stream",
          "text": [
            "Accuracy of our model is equal 67.9 %.\n",
            "auc of KNN =  0.5678877282736385\n"
          ]
        }
      ],
      "source": [
        "from sklearn.neighbors import KNeighborsClassifier\n",
        "from sklearn.metrics import accuracy_score\n",
        "from sklearn.model_selection import cross_val_score\n",
        "\n",
        "# Instantiate learning model (k = 3)\n",
        "clf = KNeighborsClassifier(n_neighbors=3)\n",
        "\n",
        "# Fitting the model\n",
        "clf.fit(X_train, y_train)\n",
        "\n",
        "# Predicting the Test set results\n",
        "y_pred = clf.predict(X_test)\n",
        "accuracy = accuracy_score(y_test, y_pred)*100\n",
        "print('Accuracy of our model is equal ' + str(round(accuracy, 2)) + ' %.')\n",
        "\n",
        "\n",
        "probs = clf.predict_proba(X_test)\n",
        "fpr , tpr , thresh = roc_curve(y_test, probs[:,1])\n",
        "print(\"auc of KNN = \" ,auc(fpr,tpr))"
      ]
    },
    {
      "cell_type": "code",
      "execution_count": null,
      "metadata": {
        "id": "lBv8vPt_8MWA",
        "outputId": "bd111313-ac2e-4958-d587-d856c1fe1a17"
      },
      "outputs": [
        {
          "name": "stdout",
          "output_type": "stream",
          "text": [
            "The max cross valitation score is  0.7287506123056442\n"
          ]
        }
      ],
      "source": [
        "# creating list of K for KNN\n",
        "k_list = list(range(1,50,2))\n",
        "# creating list of cv scores\n",
        "cv_scores_knn = []\n",
        "\n",
        "# perform 10-fold cross validation\n",
        "for k in k_list:\n",
        "    knn = KNeighborsClassifier(n_neighbors = k)\n",
        "    scores = cross_val_score(knn, X_train, y_train, cv = 10, scoring = 'accuracy')\n",
        "    cv_scores_knn.append(scores.mean())\n",
        "\n",
        "print(\"The max cross valitation score is \", np.max(cv_scores_knn))"
      ]
    },
    {
      "cell_type": "code",
      "execution_count": null,
      "metadata": {
        "id": "hCXcuQ9V8MWB",
        "outputId": "9371cda8-0df9-4060-bcfd-6693406bac53"
      },
      "outputs": [
        {
          "data": {
            "text/plain": [
              "<Figure size 432x288 with 0 Axes>"
            ]
          },
          "metadata": {},
          "output_type": "display_data"
        },
        {
          "data": {
            "image/png": "[encoded data removed]",
            "text/plain": [
              "<Figure size 504x360 with 1 Axes>"
            ]
          },
          "metadata": {
            "needs_background": "light"
          },
          "output_type": "display_data"
        }
      ],
      "source": [
        "import seaborn as sns\n",
        "# changing to misclassification error\n",
        "MSE = [1 - x for x in cv_scores_knn]\n",
        "\n",
        "plt.figure()\n",
        "plt.figure(figsize = (7,5))\n",
        "plt.title('The optimal number of neighbors', fontsize = 15, fontweight = 'bold')\n",
        "plt.xlabel('Number of Neighbors K', fontsize = 15)\n",
        "plt.ylabel('Misclassification Error', fontsize = 15)\n",
        "sns.set_style(\"whitegrid\")\n",
        "plt.plot(k_list, MSE)\n",
        "\n",
        "plt.show()"
      ]
    },
    {
      "cell_type": "code",
      "execution_count": null,
      "metadata": {
        "id": "qjERLNcf8MWB",
        "outputId": "3e34cfb2-b858-455d-f974-09cdb92dbe87"
      },
      "outputs": [
        {
          "name": "stdout",
          "output_type": "stream",
          "text": [
            "The optimal number of neighbors is 37.\n"
          ]
        }
      ],
      "source": [
        "# finding best k\n",
        "best_k = k_list[MSE.index(min(MSE))]\n",
        "print(\"The optimal number of neighbors is %d.\" % best_k)"
      ]
    },
    {
      "cell_type": "code",
      "execution_count": null,
      "metadata": {
        "id": "grU9nky48MWB",
        "outputId": "ac7dc668-27a7-4093-9876-e4b42a2cab57"
      },
      "outputs": [
        {
          "name": "stdout",
          "output_type": "stream",
          "text": [
            "Accuracy of tunned model is when k = 37 is :72.8 %.\n",
            "auc of tunned KNN =  0.6172859910801011\n"
          ]
        }
      ],
      "source": [
        "# when k = best_k, test model \n",
        "clf = KNeighborsClassifier(n_neighbors = best_k)\n",
        "\n",
        "# Fitting the model\n",
        "clf.fit(X_train, y_train)\n",
        "\n",
        "# Predicting the Test set results\n",
        "y_pred = clf.predict(X_test)\n",
        "accuracy = accuracy_score(y_test, y_pred)*100\n",
        "print('Accuracy of tunned model is when k = '+ str(best_k) +' is :'+ str(round(accuracy, 2)) + ' %.')\n",
        "\n",
        "# auc \n",
        "\n",
        "probs = clf.predict_proba(X_test)\n",
        "fpr , tpr , thresh = roc_curve(y_test, probs[:,1])\n",
        "print(\"auc of tunned KNN = \" ,auc(fpr,tpr))"
      ]
    },
    {
      "cell_type": "code",
      "execution_count": null,
      "metadata": {
        "id": "e-k1UC3r8MWB"
      },
      "outputs": [],
      "source": [
        ""
      ]
    },
    {
      "cell_type": "code",
      "execution_count": null,
      "metadata": {
        "id": "LG9yOkeS8MWB",
        "outputId": "574bc62f-207a-4bb7-8239-5bc42b5b482c"
      },
      "outputs": [
        {
          "name": "stdout",
          "output_type": "stream",
          "text": [
            "Accuracy of our model is equal 73.15 %.\n",
            "auc of RF =  0.6786325449173358\n"
          ]
        }
      ],
      "source": [
        "# Using random forest\n",
        "\n",
        "#Import Random Forest Model\n",
        "from sklearn.ensemble import RandomForestClassifier\n",
        "\n",
        "clf = RandomForestClassifier(n_estimators = 100)\n",
        "\n",
        "# fitting the model\n",
        "clf.fit(X_train,y_train)\n",
        "\n",
        "y_pred = clf.predict(X_test)\n",
        "\n",
        "\n",
        "# Predicting the Test set results\n",
        "y_pred = clf.predict(X_test)\n",
        "accuracy = accuracy_score(y_test, y_pred)*100\n",
        "print('Accuracy of our model is equal ' + str(round(accuracy, 2)) + ' %.')\n",
        "\n",
        "\n",
        "probs = clf.predict_proba(X_test)\n",
        "fpr , tpr , thresh = roc_curve(y_test, probs[:,1])\n",
        "print(\"auc of RF = \" ,auc(fpr,tpr))"
      ]
    },
    {
      "cell_type": "code",
      "execution_count": null,
      "metadata": {
        "id": "SX79CWfV8MWC",
        "outputId": "7905bf91-900a-4fb4-baa4-ac35863cad74"
      },
      "outputs": [
        {
          "name": "stdout",
          "output_type": "stream",
          "text": [
            "Accuracy of our model is equal 62.85 %.\n",
            "auc of DT =  0.5416372133706945\n"
          ]
        }
      ],
      "source": [
        "from sklearn.tree import DecisionTreeClassifier\n",
        "# Using Decision Tree\n",
        "\n",
        "\n",
        "clf = DecisionTreeClassifier()\n",
        "\n",
        "#Train the model using the training sets y_pred=clf.predict(X_test)\n",
        "clf.fit(X_train,y_train)\n",
        "y_pred = clf.predict(X_test)\n",
        "\n",
        "# Predicting the Test set results\n",
        "y_pred = clf.predict(X_test)\n",
        "accuracy = accuracy_score(y_test, y_pred)*100\n",
        "print('Accuracy of our model is equal ' + str(round(accuracy, 2)) + ' %.')\n",
        "\n",
        "\n",
        "probs = clf.predict_proba(X_test)\n",
        "fpr , tpr , thresh = roc_curve(y_test, probs[:,1])\n",
        "print(\"auc of DT = \" ,auc(fpr,tpr))"
      ]
    },
    {
      "cell_type": "code",
      "execution_count": null,
      "metadata": {
        "id": "5crB2TGw8MWC"
      },
      "outputs": [],
      "source": [
        ""
      ]
    },
    {
      "cell_type": "code",
      "execution_count": null,
      "metadata": {
        "id": "3cB2OcKD8MWC"
      },
      "outputs": [],
      "source": [
        "def p_value(p): \n",
        "    alpha = 0.05\n",
        "    if p <= alpha :\n",
        "        print(\"we reject the null hypothesis that there's no difference between \"+ str(clf1 )+\" and \"+str(clf2) +\" classifier \")\n",
        "    elif p > alpha :\n",
        "        print(\"we cannot conclude that a significant difference between \"+str (clf1)+ \" and \"+ str(clf2)+ \" exists \")"
      ]
    },
    {
      "cell_type": "code",
      "execution_count": null,
      "metadata": {
        "id": "sl2AZvb48MWC",
        "outputId": "e42375e6-c0ce-4ea7-dc0b-b9a8a6f582d2"
      },
      "outputs": [
        {
          "name": "stdout",
          "output_type": "stream",
          "text": [
            "t statistic: -1.553\n",
            "p value: 0.181\n",
            "we cannot conclude that a significant difference between KNeighborsClassifier(algorithm='auto', leaf_size=30, metric='minkowski',\n",
            "                     metric_params=None, n_jobs=None, n_neighbors=37, p=2,\n",
            "                     weights='uniform') and GradientBoostingClassifier(criterion='friedman_mse', init=None,\n",
            "                           learning_rate=0.1, loss='deviance', max_depth=3,\n",
            "                           max_features=None, max_leaf_nodes=None,\n",
            "                           min_impurity_decrease=0.0, min_impurity_split=None,\n",
            "                           min_samples_leaf=1, min_samples_split=2,\n",
            "                           min_weight_fraction_leaf=0.0, n_estimators=100,\n",
            "                           n_iter_no_change=None, presort='auto',\n",
            "                           random_state=None, subsample=1.0, tol=0.0001,\n",
            "                           validation_fraction=0.1, verbose=0,\n",
            "                           warm_start=False) exists \n"
          ]
        }
      ],
      "source": [
        "from mlxtend.evaluate import paired_ttest_5x2cv\n",
        "clf1 = KNeighborsClassifier(n_neighbors = best_k)\n",
        "clf2 = GradientBoostingClassifier( )\n",
        "\n",
        "\n",
        "t, p = paired_ttest_5x2cv(estimator1=clf1,\n",
        "                          estimator2=clf2,\n",
        "                          X=X_train, y=y_train,\n",
        "                          random_seed=1)\n",
        "\n",
        "print('t statistic: %.3f' % t)\n",
        "print('p value: %.3f' % p)\n",
        "p_value(p)"
      ]
    },
    {
      "cell_type": "code",
      "execution_count": null,
      "metadata": {
        "id": "aI7bjMhV8MWC",
        "outputId": "9a333000-8223-4539-fa98-de17b0f120e9"
      },
      "outputs": [
        {
          "name": "stderr",
          "output_type": "stream",
          "text": [
            "//anaconda3/lib/python3.7/site-packages/sklearn/ensemble/forest.py:245: FutureWarning: The default value of n_estimators will change from 10 in version 0.20 to 100 in 0.22.\n",
            "  \"10 in version 0.20 to 100 in 0.22.\", FutureWarning)\n"
          ]
        },
        {
          "name": "stdout",
          "output_type": "stream",
          "text": [
            "t statistic: 3.058\n",
            "p value: 0.028\n",
            "we reject the null hypothesis that there's no difference between GradientBoostingClassifier(criterion='friedman_mse', init=None,\n",
            "                           learning_rate=0.1, loss='deviance', max_depth=3,\n",
            "                           max_features=None, max_leaf_nodes=None,\n",
            "                           min_impurity_decrease=0.0, min_impurity_split=None,\n",
            "                           min_samples_leaf=1, min_samples_split=2,\n",
            "                           min_weight_fraction_leaf=0.0, n_estimators=100,\n",
            "                           n_iter_no_change=None, presort='auto',\n",
            "                           random_state=None, subsample=1.0, tol=0.0001,\n",
            "                           validation_fraction=0.1, verbose=0,\n",
            "                           warm_start=False) and RandomForestClassifier(bootstrap=True, class_weight=None, criterion='gini',\n",
            "                       max_depth=None, max_features='auto', max_leaf_nodes=None,\n",
            "                       min_impurity_decrease=0.0, min_impurity_split=None,\n",
            "                       min_samples_leaf=1, min_samples_split=2,\n",
            "                       min_weight_fraction_leaf=0.0, n_estimators=10,\n",
            "                       n_jobs=None, oob_score=False, random_state=None,\n",
            "                       verbose=0, warm_start=False) classifier \n"
          ]
        }
      ],
      "source": [
        "from mlxtend.evaluate import paired_ttest_5x2cv\n",
        "clf1 = GradientBoostingClassifier()\n",
        "clf2 = RandomForestClassifier()\n",
        "\n",
        "t, p = paired_ttest_5x2cv(estimator1=clf1,\n",
        "                          estimator2=clf2,\n",
        "                          X=X_train, y=y_train,\n",
        "                          random_seed=1)\n",
        "\n",
        "print('t statistic: %.3f' % t)\n",
        "print('p value: %.3f' % p)\n",
        "p_value(p)"
      ]
    },
    {
      "cell_type": "code",
      "execution_count": null,
      "metadata": {
        "id": "Z5Y95wxS8MWC"
      },
      "outputs": [],
      "source": [
        ""
      ]
    },
    {
      "cell_type": "code",
      "execution_count": null,
      "metadata": {
        "id": "SMkeFi9j8MWC",
        "outputId": "33b1f710-b531-4f4a-e3bf-1958c94cecb2"
      },
      "outputs": [
        {
          "name": "stdout",
          "output_type": "stream",
          "text": [
            "Accuracy of GradientBoostingClassifier : 0.7385\n"
          ]
        }
      ],
      "source": [
        "# using our best model \" GB \" to predict the probabilities for 5000 customers\n",
        "\n",
        "# make probability predictions with the model\n",
        "from sklearn.ensemble import GradientBoostingClassifier\n",
        "from sklearn.metrics import roc_curve, auc\n",
        "#Create a GradientBoostingClassifier Classifier\n",
        "clf = GradientBoostingClassifier(n_estimators = 50)\n",
        "\n",
        "#Train the model using the training sets y_pred=clf.predict(X_test)\n",
        "clf.fit(X_train, y_train)\n",
        "\n",
        "y_pred_ = clf.predict(X_test)\n",
        "\n",
        "from sklearn import metrics\n",
        "# Model Accuracy, how often is the classifier correct?\n",
        "print(\"Accuracy of GradientBoostingClassifier :\", metrics.accuracy_score(y_test, y_pred))\n",
        "\n",
        "probs_ = clf.predict_proba(X_test_real)[:,1]\n"
      ]
    },
    {
      "cell_type": "code",
      "execution_count": null,
      "metadata": {
        "id": "lhhYVOVz8MWD"
      },
      "outputs": [],
      "source": [
        ""
      ]
    },
    {
      "cell_type": "code",
      "execution_count": null,
      "metadata": {
        "id": "22UDLNEe8MWD",
        "outputId": "068dab49-2405-411a-ee9f-0d912a67ab1f"
      },
      "outputs": [
        {
          "data": {
            "text/plain": [
              "Text(0.5, 1, 'feature importance in GradientBoostingClassifier')"
            ]
          },
          "execution_count": 40,
          "metadata": {},
          "output_type": "execute_result"
        },
        {
          "data": {
            "image/png": "[encoded data removed]",
            "text/plain": [
              "<Figure size 432x288 with 1 Axes>"
            ]
          },
          "metadata": {},
          "output_type": "display_data"
        }
      ],
      "source": [
        "# feature importance \n",
        "(pd.Series(clf.feature_importances_, index=x.columns)\n",
        "   .nlargest(9)\n",
        "   .plot(kind='barh'))\n",
        "plt.savefig(\"feature_importance_.png\")\n",
        "plt.title(\"feature importance in GradientBoostingClassifier\")"
      ]
    },
    {
      "cell_type": "code",
      "execution_count": null,
      "metadata": {
        "id": "CMOM2f_V8MWD"
      },
      "outputs": [],
      "source": [
        "# potential customers \n",
        "\n",
        "isPay_thresh = 0.15 # isDef = 0 payback\n",
        "notPay_thresh = 0.95 # isDef = 1 notPayBack\n",
        "clf = GradientBoostingClassifier(n_estimators = 50)\n",
        "\n",
        "y_pred = clf.fit(X_train, y_train).predict(X_test_real)\n"
      ]
    },
    {
      "cell_type": "code",
      "execution_count": null,
      "metadata": {
        "id": "qD81CDQe8MWD",
        "outputId": "fc35cbd2-ec7c-47bd-86a6-8f816b1d7dd6"
      },
      "outputs": [
        {
          "name": "stdout",
          "output_type": "stream",
          "text": [
            "4845\n",
            "155\n",
            "(5000,)\n"
          ]
        }
      ],
      "source": [
        "print(np.sum(y_pred < isPay_thresh)) # safe people\n",
        "print(np.sum(y_pred > notPay_thresh)) # dangerous people \n",
        "\n",
        "print(y_pred.shape)"
      ]
    },
    {
      "cell_type": "code",
      "execution_count": null,
      "metadata": {
        "id": "rhzOiisp8MWD"
      },
      "outputs": [],
      "source": [
        "# saving our result probabilities prediction for 5000 customers\n",
        "id_ = pd.DataFrame( data = cus_id)\n",
        "pre = pd.DataFrame( data = probs_)"
      ]
    },
    {
      "cell_type": "code",
      "execution_count": null,
      "metadata": {
        "id": "np19ZLQj8MWD"
      },
      "outputs": [],
      "source": [
        "frames = [id_ , pre]\n",
        "ff = pd.concat( frames , axis=1)"
      ]
    },
    {
      "cell_type": "code",
      "execution_count": null,
      "metadata": {
        "id": "xWHMmGIf8MWD"
      },
      "outputs": [],
      "source": [
        "ff.to_csv('output.txt', sep=',', header = False)"
      ]
    },
    {
      "cell_type": "code",
      "execution_count": null,
      "metadata": {
        "id": "JN3nyOFm8MWE"
      },
      "outputs": [],
      "source": [
        "data = pd.read_csv('output.txt', header = None)"
      ]
    },
    {
      "cell_type": "code",
      "execution_count": null,
      "metadata": {
        "id": "KVdeHa5S8MWE",
        "outputId": "5d95e2c9-36cf-442c-963a-70608c502e07"
      },
      "outputs": [
        {
          "data": {
            "text/html": [
              "<div>\n",
              "<style scoped>\n",
              "    .dataframe tbody tr th:only-of-type {\n",
              "        vertical-align: middle;\n",
              "    }\n",
              "\n",
              "    .dataframe tbody tr th {\n",
              "        vertical-align: top;\n",
              "    }\n",
              "\n",
              "    .dataframe thead th {\n",
              "        text-align: right;\n",
              "    }\n",
              "</style>\n",
              "<table border=\"1\" class=\"dataframe\">\n",
              "  <thead>\n",
              "    <tr style=\"text-align: right;\">\n",
              "      <th></th>\n",
              "      <th>0</th>\n",
              "      <th>1</th>\n",
              "      <th>2</th>\n",
              "    </tr>\n",
              "  </thead>\n",
              "  <tbody>\n",
              "    <tr>\n",
              "      <th>0</th>\n",
              "      <td>0</td>\n",
              "      <td>A9C3F4CA-66BF-44EE-8C38-1C50D0751CD1-500</td>\n",
              "      <td>0.363143</td>\n",
              "    </tr>\n",
              "    <tr>\n",
              "      <th>1</th>\n",
              "      <td>1</td>\n",
              "      <td>A9C93D6B-8625-48EE-9E05-EB63256DEEA6-500</td>\n",
              "      <td>0.318777</td>\n",
              "    </tr>\n",
              "    <tr>\n",
              "      <th>2</th>\n",
              "      <td>2</td>\n",
              "      <td>A9D12F62-35D5-44DE-8446-B8C2E4A5E938-750</td>\n",
              "      <td>0.211661</td>\n",
              "    </tr>\n",
              "    <tr>\n",
              "      <th>3</th>\n",
              "      <td>3</td>\n",
              "      <td>A9D3EC9F-B3EB-4A56-8BC6-4614A1C42FE2-600</td>\n",
              "      <td>0.265929</td>\n",
              "    </tr>\n",
              "    <tr>\n",
              "      <th>4</th>\n",
              "      <td>4</td>\n",
              "      <td>A9D54EF9-3CBA-4481-80B2-59FD92BB60D9-700</td>\n",
              "      <td>0.253342</td>\n",
              "    </tr>\n",
              "  </tbody>\n",
              "</table>\n",
              "</div>"
            ],
            "text/plain": [
              "   0                                         1         2\n",
              "0  0  A9C3F4CA-66BF-44EE-8C38-1C50D0751CD1-500  0.363143\n",
              "1  1  A9C93D6B-8625-48EE-9E05-EB63256DEEA6-500  0.318777\n",
              "2  2  A9D12F62-35D5-44DE-8446-B8C2E4A5E938-750  0.211661\n",
              "3  3  A9D3EC9F-B3EB-4A56-8BC6-4614A1C42FE2-600  0.265929\n",
              "4  4  A9D54EF9-3CBA-4481-80B2-59FD92BB60D9-700  0.253342"
            ]
          },
          "execution_count": 68,
          "metadata": {},
          "output_type": "execute_result"
        }
      ],
      "source": [
        "data.head()"
      ]
    },
    {
      "cell_type": "code",
      "execution_count": null,
      "metadata": {
        "id": "wV3CMyzH8MWE"
      },
      "outputs": [],
      "source": [
        ""
      ]
    },
    {
      "cell_type": "code",
      "execution_count": null,
      "metadata": {
        "id": "CcGmqMwS8MWE",
        "outputId": "11035b1c-041e-4fcc-9208-c5191242d911"
      },
      "outputs": [
        {
          "name": "stderr",
          "output_type": "stream",
          "text": [
            "Using TensorFlow backend.\n"
          ]
        }
      ],
      "source": [
        "# testing with nn \n",
        "from keras.models import Sequential\n",
        "from keras.layers import Dense, Dropout\n",
        "from keras import optimizers\n",
        "from keras.regularizers import l2, l1"
      ]
    },
    {
      "cell_type": "code",
      "execution_count": null,
      "metadata": {
        "id": "HCgFibso8MWE"
      },
      "outputs": [],
      "source": [
        "model = Sequential()\n",
        "model.add(Dense(16, input_dim=9, activation='relu', kernel_regularizer=l1(0.01))) # kernel_regularizer=l1(0.001)\n",
        "model.add(Dropout(0.1))\n",
        "model.add(Dense(32, activation='relu'))\n",
        "model.add(Dense(64, activation = 'relu'))\n",
        "#model.add(Dense(64, activation = 'relu'))\n",
        "#model.add(Dropout(0.5))\n",
        "#model.add(Dense(16, activation='relu'))\n",
        "#model.add(Dense(15 , activation = 'relu'))\n",
        "#model.add(Dropout(0.2))\n",
        "#model.add(Dense(7, activation='relu'))\n",
        "model.add(Dense(1, activation='sigmoid'))\n",
        "optim = optimizers.SGD(lr=0.004, momentum=0.9, decay=0.0, nesterov=False)"
      ]
    },
    {
      "cell_type": "code",
      "execution_count": null,
      "metadata": {
        "id": "JHspLUTF8MWE"
      },
      "outputs": [],
      "source": [
        "# compile the keras model\n",
        "model.compile(loss='binary_crossentropy', optimizer= optim, metrics=['accuracy'])"
      ]
    },
    {
      "cell_type": "code",
      "execution_count": null,
      "metadata": {
        "id": "UW1f61Ce8MWE",
        "outputId": "1f6be2e8-9e38-4676-f8c0-9f6ba9b82b61"
      },
      "outputs": [
        {
          "name": "stdout",
          "output_type": "stream",
          "text": [
            "Epoch 1/20\n",
            "8000/8000 [==============================] - 1s 86us/step - loss: 389.1719 - accuracy: 0.7189\n",
            "Epoch 2/20\n",
            "8000/8000 [==============================] - 0s 44us/step - loss: 325.4372 - accuracy: 0.7297\n",
            "Epoch 3/20\n",
            "8000/8000 [==============================] - 0s 48us/step - loss: 325.3681 - accuracy: 0.7297\n",
            "Epoch 4/20\n",
            "8000/8000 [==============================] - 0s 44us/step - loss: 325.1240 - accuracy: 0.7297\n",
            "Epoch 5/20\n",
            "8000/8000 [==============================] - 0s 44us/step - loss: 324.8837 - accuracy: 0.7297\n",
            "Epoch 6/20\n",
            "8000/8000 [==============================] - 0s 50us/step - loss: 324.6472 - accuracy: 0.7297\n",
            "Epoch 7/20\n",
            "8000/8000 [==============================] - 0s 60us/step - loss: 324.4176 - accuracy: 0.7297\n",
            "Epoch 8/20\n",
            "8000/8000 [==============================] - 0s 45us/step - loss: 324.1903 - accuracy: 0.7297\n",
            "Epoch 9/20\n",
            "8000/8000 [==============================] - 0s 49us/step - loss: 323.9636 - accuracy: 0.7297\n",
            "Epoch 10/20\n",
            "8000/8000 [==============================] - 0s 45us/step - loss: 323.7401 - accuracy: 0.7297\n",
            "Epoch 11/20\n",
            "8000/8000 [==============================] - 0s 45us/step - loss: 323.5208 - accuracy: 0.7297\n",
            "Epoch 12/20\n",
            "8000/8000 [==============================] - 0s 46us/step - loss: 323.3015 - accuracy: 0.7297\n",
            "Epoch 13/20\n",
            "8000/8000 [==============================] - 1s 63us/step - loss: 323.0830 - accuracy: 0.7297\n",
            "Epoch 14/20\n",
            "8000/8000 [==============================] - 0s 54us/step - loss: 322.8661 - accuracy: 0.7297\n",
            "Epoch 15/20\n",
            "8000/8000 [==============================] - 0s 45us/step - loss: 322.6523 - accuracy: 0.7297\n",
            "Epoch 16/20\n",
            "8000/8000 [==============================] - 0s 54us/step - loss: 322.4372 - accuracy: 0.7297\n",
            "Epoch 17/20\n",
            "8000/8000 [==============================] - 0s 49us/step - loss: 385.1388 - accuracy: 0.7297\n",
            "Epoch 18/20\n",
            "8000/8000 [==============================] - 0s 53us/step - loss: 409.3169 - accuracy: 0.7297\n",
            "Epoch 19/20\n",
            "8000/8000 [==============================] - 0s 61us/step - loss: 409.0896 - accuracy: 0.7297\n",
            "Epoch 20/20\n",
            "8000/8000 [==============================] - 1s 64us/step - loss: 408.8638 - accuracy: 0.7297\n"
          ]
        },
        {
          "data": {
            "text/plain": [
              "<keras.callbacks.callbacks.History at 0x15082cda0>"
            ]
          },
          "execution_count": 72,
          "metadata": {},
          "output_type": "execute_result"
        }
      ],
      "source": [
        "# fit the keras model on the dataset\n",
        "n_epochs = 20\n",
        "model.fit(X_train, y_train, epochs = n_epochs , batch_size=16)"
      ]
    },
    {
      "cell_type": "code",
      "execution_count": null,
      "metadata": {
        "id": "QfG_Gku98MWF",
        "outputId": "a76bb9cc-cd4f-49c1-d05c-7a9e318a8670"
      },
      "outputs": [
        {
          "name": "stdout",
          "output_type": "stream",
          "text": [
            "2000/2000 [==============================] - 0s 31us/step\n",
            "Accuracy: 73.10\n"
          ]
        }
      ],
      "source": [
        "# evaluate the keras model\n",
        "_, accuracy = model.evaluate(X_test, y_test)\n",
        "print('Accuracy: %.2f' % (accuracy*100))"
      ]
    },
    {
      "cell_type": "code",
      "execution_count": null,
      "metadata": {
        "id": "ULd22Ybm8MWF"
      },
      "outputs": [],
      "source": [
        ""
      ]
    },
    {
      "cell_type": "code",
      "execution_count": null,
      "metadata": {
        "id": "ucjo1Lal8MWF",
        "outputId": "c04a7896-adad-407b-fc69-e4a6ba103498"
      },
      "outputs": [
        {
          "name": "stdout",
          "output_type": "stream",
          "text": [
            "lower=0.643, upper=0.817\n"
          ]
        }
      ],
      "source": [
        "# confidence interval for accuracy = 73% and success_rate = 95%\n",
        "from statsmodels.stats.proportion import proportion_confint\n",
        "lower, upper = proportion_confint(73, 100, 0.05)\n",
        "print('lower=%.3f, upper=%.3f' % (lower, upper))"
      ]
    },
    {
      "cell_type": "code",
      "execution_count": null,
      "metadata": {
        "id": "WIOKt2gA8MWF"
      },
      "outputs": [],
      "source": [
        ""
      ]
    }
  ],
  "metadata": {
    "kernelspec": {
      "display_name": "Python 3",
      "language": "python",
      "name": "python3"
    },
    "language_info": {
      "codemirror_mode": {
        "name": "ipython",
        "version": 3
      },
      "file_extension": ".py",
      "mimetype": "text/x-python",
      "name": "python",
      "nbconvert_exporter": "python",
      "pygments_lexer": "ipython3",
      "version": "3.7.3"
    },
    "colab": {
      "name": "DM.ipynb",
      "provenance": []
    }
  },
  "nbformat": 4,
  "nbformat_minor": 0
}